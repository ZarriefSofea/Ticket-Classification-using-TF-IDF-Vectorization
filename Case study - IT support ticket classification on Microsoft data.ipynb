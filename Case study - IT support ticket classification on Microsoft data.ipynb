{
 "cells": [
  {
   "cell_type": "markdown",
   "id": "a5d2d10a",
   "metadata": {},
   "source": [
    "**Reading the support ticket data**"
   ]
  },
  {
   "cell_type": "code",
   "execution_count": 2,
   "id": "7d27370a",
   "metadata": {},
   "outputs": [
    {
     "name": "stdout",
     "output_type": "stream",
     "text": [
      "(19796, 2)\n"
     ]
    },
    {
     "data": {
      "text/html": [
       "<div>\n",
       "<style scoped>\n",
       "    .dataframe tbody tr th:only-of-type {\n",
       "        vertical-align: middle;\n",
       "    }\n",
       "\n",
       "    .dataframe tbody tr th {\n",
       "        vertical-align: top;\n",
       "    }\n",
       "\n",
       "    .dataframe thead th {\n",
       "        text-align: right;\n",
       "    }\n",
       "</style>\n",
       "<table border=\"1\" class=\"dataframe\">\n",
       "  <thead>\n",
       "    <tr style=\"text-align: right;\">\n",
       "      <th></th>\n",
       "      <th>body</th>\n",
       "      <th>urgency</th>\n",
       "    </tr>\n",
       "  </thead>\n",
       "  <tbody>\n",
       "    <tr>\n",
       "      <th>0</th>\n",
       "      <td>connection issues with assigned address hi fac...</td>\n",
       "      <td>P1</td>\n",
       "    </tr>\n",
       "    <tr>\n",
       "      <th>1</th>\n",
       "      <td>cannot access hi cannot access fallowing link ...</td>\n",
       "      <td>P2</td>\n",
       "    </tr>\n",
       "    <tr>\n",
       "      <th>2</th>\n",
       "      <td>re address shown valid dear colleagues remarke...</td>\n",
       "      <td>P1</td>\n",
       "    </tr>\n",
       "    <tr>\n",
       "      <th>3</th>\n",
       "      <td>sent tuesday critical alert following alert oc...</td>\n",
       "      <td>P2</td>\n",
       "    </tr>\n",
       "    <tr>\n",
       "      <th>4</th>\n",
       "      <td>code spelling mistake hello should discover fo...</td>\n",
       "      <td>P2</td>\n",
       "    </tr>\n",
       "    <tr>\n",
       "      <th>5</th>\n",
       "      <td>annual leave hello sent last week about previo...</td>\n",
       "      <td>P2</td>\n",
       "    </tr>\n",
       "    <tr>\n",
       "      <th>6</th>\n",
       "      <td>report working hello dear last two weeks have ...</td>\n",
       "      <td>P2</td>\n",
       "    </tr>\n",
       "    <tr>\n",
       "      <th>7</th>\n",
       "      <td>more access lost access please reset password ...</td>\n",
       "      <td>P1</td>\n",
       "    </tr>\n",
       "    <tr>\n",
       "      <th>8</th>\n",
       "      <td>open credentials required please assist instal...</td>\n",
       "      <td>P1</td>\n",
       "    </tr>\n",
       "    <tr>\n",
       "      <th>9</th>\n",
       "      <td>dear please ask our supplier for price quotati...</td>\n",
       "      <td>P2</td>\n",
       "    </tr>\n",
       "  </tbody>\n",
       "</table>\n",
       "</div>"
      ],
      "text/plain": [
       "                                                body urgency\n",
       "0  connection issues with assigned address hi fac...      P1\n",
       "1  cannot access hi cannot access fallowing link ...      P2\n",
       "2  re address shown valid dear colleagues remarke...      P1\n",
       "3  sent tuesday critical alert following alert oc...      P2\n",
       "4  code spelling mistake hello should discover fo...      P2\n",
       "5  annual leave hello sent last week about previo...      P2\n",
       "6  report working hello dear last two weeks have ...      P2\n",
       "7  more access lost access please reset password ...      P1\n",
       "8  open credentials required please assist instal...      P1\n",
       "9  dear please ask our supplier for price quotati...      P2"
      ]
     },
     "execution_count": 2,
     "metadata": {},
     "output_type": "execute_result"
    }
   ],
   "source": [
    "import pandas as pd\n",
    "import numpy as np\n",
    " \n",
    "# Reading the data\n",
    "TicketData=pd.read_csv(\"C:/Users/zarri/OneDrive/Documents/My Coding Project/NLP/supportTicketData.csv\")\n",
    " \n",
    "# Printing number of rows and columns\n",
    "print(TicketData.shape)\n",
    " \n",
    "# Printing sample rows\n",
    "TicketData.head(10)"
   ]
  },
  {
   "cell_type": "markdown",
   "id": "20d79cd1",
   "metadata": {},
   "source": [
    " **Visualising the distribution of the Target variable**"
   ]
  },
  {
   "cell_type": "code",
   "execution_count": 3,
   "id": "4815408d",
   "metadata": {},
   "outputs": [
    {
     "name": "stdout",
     "output_type": "stream",
     "text": [
      "urgency\n",
      "P1    6748\n",
      "P2    5528\n",
      "P3    7520\n",
      "dtype: int64\n"
     ]
    },
    {
     "data": {
      "image/png": "[encoded data removed]",
      "text/plain": [
       "<Figure size 640x480 with 1 Axes>"
      ]
     },
     "metadata": {},
     "output_type": "display_data"
    }
   ],
   "source": [
    "# Number of unique values for urgency column\n",
    "# You can see there are 3 ticket types\n",
    "print(TicketData.groupby('urgency').size())\n",
    " \n",
    "# Plotting the bar chart\n",
    "%matplotlib inline\n",
    "TicketData.groupby('urgency').size().plot(kind='bar');"
   ]
  },
  {
   "cell_type": "markdown",
   "id": "ebd2626a",
   "metadata": {},
   "source": [
    "**TF-IDF Vectorization: converting text data to numeric**"
   ]
  },
  {
   "cell_type": "code",
   "execution_count": 5,
   "id": "903294bc",
   "metadata": {},
   "outputs": [
    {
     "name": "stdout",
     "output_type": "stream",
     "text": [
      "(19796, 9100)\n"
     ]
    },
    {
     "data": {
      "text/html": [
       "<div>\n",
       "<style scoped>\n",
       "    .dataframe tbody tr th:only-of-type {\n",
       "        vertical-align: middle;\n",
       "    }\n",
       "\n",
       "    .dataframe tbody tr th {\n",
       "        vertical-align: top;\n",
       "    }\n",
       "\n",
       "    .dataframe thead th {\n",
       "        text-align: right;\n",
       "    }\n",
       "</style>\n",
       "<table border=\"1\" class=\"dataframe\">\n",
       "  <thead>\n",
       "    <tr style=\"text-align: right;\">\n",
       "      <th></th>\n",
       "      <th>ab</th>\n",
       "      <th>abandon</th>\n",
       "      <th>abandoned</th>\n",
       "      <th>abc</th>\n",
       "      <th>abeam</th>\n",
       "      <th>abilities</th>\n",
       "      <th>ability</th>\n",
       "      <th>able</th>\n",
       "      <th>abnormal</th>\n",
       "      <th>abnormally</th>\n",
       "      <th>...</th>\n",
       "      <th>zig</th>\n",
       "      <th>zip</th>\n",
       "      <th>zipped</th>\n",
       "      <th>zipper</th>\n",
       "      <th>zipping</th>\n",
       "      <th>zone</th>\n",
       "      <th>zones</th>\n",
       "      <th>zoom</th>\n",
       "      <th>zooming</th>\n",
       "      <th>Priority</th>\n",
       "    </tr>\n",
       "  </thead>\n",
       "  <tbody>\n",
       "    <tr>\n",
       "      <th>0</th>\n",
       "      <td>0.0</td>\n",
       "      <td>0.0</td>\n",
       "      <td>0.0</td>\n",
       "      <td>0.0</td>\n",
       "      <td>0.0</td>\n",
       "      <td>0.0</td>\n",
       "      <td>0.0</td>\n",
       "      <td>0.0</td>\n",
       "      <td>0.0</td>\n",
       "      <td>0.0</td>\n",
       "      <td>...</td>\n",
       "      <td>0.0</td>\n",
       "      <td>0.0</td>\n",
       "      <td>0.0</td>\n",
       "      <td>0.0</td>\n",
       "      <td>0.0</td>\n",
       "      <td>0.0</td>\n",
       "      <td>0.0</td>\n",
       "      <td>0.0</td>\n",
       "      <td>0.0</td>\n",
       "      <td>P1</td>\n",
       "    </tr>\n",
       "    <tr>\n",
       "      <th>1</th>\n",
       "      <td>0.0</td>\n",
       "      <td>0.0</td>\n",
       "      <td>0.0</td>\n",
       "      <td>0.0</td>\n",
       "      <td>0.0</td>\n",
       "      <td>0.0</td>\n",
       "      <td>0.0</td>\n",
       "      <td>0.0</td>\n",
       "      <td>0.0</td>\n",
       "      <td>0.0</td>\n",
       "      <td>...</td>\n",
       "      <td>0.0</td>\n",
       "      <td>0.0</td>\n",
       "      <td>0.0</td>\n",
       "      <td>0.0</td>\n",
       "      <td>0.0</td>\n",
       "      <td>0.0</td>\n",
       "      <td>0.0</td>\n",
       "      <td>0.0</td>\n",
       "      <td>0.0</td>\n",
       "      <td>P2</td>\n",
       "    </tr>\n",
       "    <tr>\n",
       "      <th>2</th>\n",
       "      <td>0.0</td>\n",
       "      <td>0.0</td>\n",
       "      <td>0.0</td>\n",
       "      <td>0.0</td>\n",
       "      <td>0.0</td>\n",
       "      <td>0.0</td>\n",
       "      <td>0.0</td>\n",
       "      <td>0.0</td>\n",
       "      <td>0.0</td>\n",
       "      <td>0.0</td>\n",
       "      <td>...</td>\n",
       "      <td>0.0</td>\n",
       "      <td>0.0</td>\n",
       "      <td>0.0</td>\n",
       "      <td>0.0</td>\n",
       "      <td>0.0</td>\n",
       "      <td>0.0</td>\n",
       "      <td>0.0</td>\n",
       "      <td>0.0</td>\n",
       "      <td>0.0</td>\n",
       "      <td>P1</td>\n",
       "    </tr>\n",
       "    <tr>\n",
       "      <th>3</th>\n",
       "      <td>0.0</td>\n",
       "      <td>0.0</td>\n",
       "      <td>0.0</td>\n",
       "      <td>0.0</td>\n",
       "      <td>0.0</td>\n",
       "      <td>0.0</td>\n",
       "      <td>0.0</td>\n",
       "      <td>0.0</td>\n",
       "      <td>0.0</td>\n",
       "      <td>0.0</td>\n",
       "      <td>...</td>\n",
       "      <td>0.0</td>\n",
       "      <td>0.0</td>\n",
       "      <td>0.0</td>\n",
       "      <td>0.0</td>\n",
       "      <td>0.0</td>\n",
       "      <td>0.0</td>\n",
       "      <td>0.0</td>\n",
       "      <td>0.0</td>\n",
       "      <td>0.0</td>\n",
       "      <td>P2</td>\n",
       "    </tr>\n",
       "    <tr>\n",
       "      <th>4</th>\n",
       "      <td>0.0</td>\n",
       "      <td>0.0</td>\n",
       "      <td>0.0</td>\n",
       "      <td>0.0</td>\n",
       "      <td>0.0</td>\n",
       "      <td>0.0</td>\n",
       "      <td>0.0</td>\n",
       "      <td>0.0</td>\n",
       "      <td>0.0</td>\n",
       "      <td>0.0</td>\n",
       "      <td>...</td>\n",
       "      <td>0.0</td>\n",
       "      <td>0.0</td>\n",
       "      <td>0.0</td>\n",
       "      <td>0.0</td>\n",
       "      <td>0.0</td>\n",
       "      <td>0.0</td>\n",
       "      <td>0.0</td>\n",
       "      <td>0.0</td>\n",
       "      <td>0.0</td>\n",
       "      <td>P2</td>\n",
       "    </tr>\n",
       "  </tbody>\n",
       "</table>\n",
       "<p>5 rows × 9100 columns</p>\n",
       "</div>"
      ],
      "text/plain": [
       "    ab  abandon  abandoned  abc  abeam  abilities  ability  able  abnormal  \\\n",
       "0  0.0      0.0        0.0  0.0    0.0        0.0      0.0   0.0       0.0   \n",
       "1  0.0      0.0        0.0  0.0    0.0        0.0      0.0   0.0       0.0   \n",
       "2  0.0      0.0        0.0  0.0    0.0        0.0      0.0   0.0       0.0   \n",
       "3  0.0      0.0        0.0  0.0    0.0        0.0      0.0   0.0       0.0   \n",
       "4  0.0      0.0        0.0  0.0    0.0        0.0      0.0   0.0       0.0   \n",
       "\n",
       "   abnormally  ...  zig  zip  zipped  zipper  zipping  zone  zones  zoom  \\\n",
       "0         0.0  ...  0.0  0.0     0.0     0.0      0.0   0.0    0.0   0.0   \n",
       "1         0.0  ...  0.0  0.0     0.0     0.0      0.0   0.0    0.0   0.0   \n",
       "2         0.0  ...  0.0  0.0     0.0     0.0      0.0   0.0    0.0   0.0   \n",
       "3         0.0  ...  0.0  0.0     0.0     0.0      0.0   0.0    0.0   0.0   \n",
       "4         0.0  ...  0.0  0.0     0.0     0.0      0.0   0.0    0.0   0.0   \n",
       "\n",
       "   zooming  Priority  \n",
       "0      0.0        P1  \n",
       "1      0.0        P2  \n",
       "2      0.0        P1  \n",
       "3      0.0        P2  \n",
       "4      0.0        P2  \n",
       "\n",
       "[5 rows x 9100 columns]"
      ]
     },
     "execution_count": 5,
     "metadata": {},
     "output_type": "execute_result"
    }
   ],
   "source": [
    "# TF-IDF vectorization of text\n",
    "from sklearn.feature_extraction.text import TfidfVectorizer\n",
    "from sklearn.feature_extraction.text import ENGLISH_STOP_WORDS as sklearn_stop_words\n",
    " \n",
    "# Ticket Data\n",
    "corpus = TicketData['body'].values\n",
    " \n",
    "# Creating the vectorizer\n",
    "vectorizer = TfidfVectorizer(stop_words='english')\n",
    " \n",
    "# Converting the text to numeric data\n",
    "X = vectorizer.fit_transform(corpus)\n",
    " \n",
    "#print(vectorizer.get_feature_names())\n",
    " \n",
    "# Preparing Data frame For machine learning\n",
    "# Priority column acts as a target variable and other columns as predictors\n",
    "DataForML=pd.DataFrame(X.toarray(), columns=vectorizer.get_feature_names_out())\n",
    "DataForML['Priority']=TicketData['urgency']\n",
    "print(DataForML.shape)\n",
    "DataForML.head()"
   ]
  },
  {
   "cell_type": "markdown",
   "id": "aead0987",
   "metadata": {},
   "source": [
    "**Dimension Reduction**"
   ]
  },
  {
   "cell_type": "code",
   "execution_count": 6,
   "id": "039995b9",
   "metadata": {},
   "outputs": [
    {
     "name": "stdout",
     "output_type": "stream",
     "text": [
      "[ 1.28  2.25  3.08 ... 95.36 95.36 95.36]\n"
     ]
    },
    {
     "data": {
      "text/plain": [
       "Text(0, 0.5, '% Variance explained')"
      ]
     },
     "execution_count": 6,
     "metadata": {},
     "output_type": "execute_result"
    },
    {
     "data": {
      "image/png": "[encoded data removed]",
      "text/plain": [
       "<Figure size 640x480 with 1 Axes>"
      ]
     },
     "metadata": {},
     "output_type": "display_data"
    }
   ],
   "source": [
    "''' #### Dimension Reduction #### '''\n",
    "from sklearn.decomposition import PCA\n",
    "import matplotlib.pyplot as plt\n",
    " \n",
    "# Subsetting data for X and y\n",
    "TargetVariable=DataForML.columns[-1]\n",
    "Predictors=DataForML.columns[:-1]\n",
    " \n",
    "X=DataForML[Predictors].values\n",
    "y=DataForML[TargetVariable].values\n",
    " \n",
    "# Trying maximum 5000 components \n",
    "# You need to choose any number which is less than the total number of columns in the original data\n",
    "# I chose 5000 just to check if saturation happens before 5000 components or not.\n",
    "NumComponents=5000\n",
    "pca = PCA(n_components=NumComponents)\n",
    " \n",
    "# fitting the data\n",
    "pca_fit=pca.fit(X)\n",
    " \n",
    "# calculating the principal components\n",
    "reduced_X = pca_fit.transform(X)\n",
    " \n",
    " \n",
    "#Cumulative Variance explained by each component\n",
    "var_explained_cumulative=np.cumsum(np.round(pca.explained_variance_ratio_, decimals=4)*100)\n",
    "print(var_explained_cumulative)\n",
    " \n",
    "# Look for the elbow in the plot\n",
    "plt.plot( range(1,len(var_explained_cumulative)+1), var_explained_cumulative )\n",
    "plt.xlabel('Number of components')\n",
    "plt.ylabel('% Variance explained')"
   ]
  },
  {
   "cell_type": "code",
   "execution_count": 7,
   "id": "e9126177",
   "metadata": {},
   "outputs": [],
   "source": [
    "# Creating 2100 Principal components based on the above curve\n",
    "NumComponents=2100\n",
    "pca = PCA(n_components=NumComponents)\n",
    " \n",
    "# fitting the data\n",
    "pca_fit=pca.fit(X)\n",
    " \n",
    "# calculating the principal components\n",
    "reduced_X = pca_fit.transform(X)"
   ]
  },
  {
   "cell_type": "markdown",
   "id": "8629b17b",
   "metadata": {},
   "source": [
    "**Using Principal Components as predictors**"
   ]
  },
  {
   "cell_type": "code",
   "execution_count": 8,
   "id": "d9b9e4ab",
   "metadata": {},
   "outputs": [
    {
     "data": {
      "text/plain": [
       "array(['PC1', 'PC2', 'PC3', ..., 'PC2098', 'PC2099', 'PC2100'],\n",
       "      dtype=object)"
      ]
     },
     "execution_count": 8,
     "metadata": {},
     "output_type": "execute_result"
    }
   ],
   "source": [
    "# Equating reduced_X to X to let the other code run without changing everything\n",
    "X=reduced_X\n",
    "# Generating Predictor names\n",
    "Predictors=pd.Series(['PC']*NumComponents).str.cat(pd.Series(range(1,NumComponents+1)).apply(str)).values\n",
    "Predictors"
   ]
  },
  {
   "cell_type": "markdown",
   "id": "5b0e114f",
   "metadata": {},
   "source": [
    "**Standardization/Normalization of the data**"
   ]
  },
  {
   "cell_type": "code",
   "execution_count": 9,
   "id": "0382aafc",
   "metadata": {},
   "outputs": [
    {
     "name": "stdout",
     "output_type": "stream",
     "text": [
      "(13857, 2100)\n",
      "(13857,)\n",
      "(5939, 2100)\n",
      "(5939,)\n"
     ]
    }
   ],
   "source": [
    "from sklearn.preprocessing import StandardScaler, MinMaxScaler\n",
    "# Choose either standardization or Normalization\n",
    "# On this data Min Max Normalization is needed as we are fitting Naive Bayes\n",
    " \n",
    "# Choose between standardization and MinMAx normalization\n",
    "#PredictorScaler=StandardScaler()\n",
    "PredictorScaler=MinMaxScaler()\n",
    " \n",
    "# Storing the fit object for later reference\n",
    "PredictorScalerFit=PredictorScaler.fit(X)\n",
    " \n",
    "# Generating the standardized values of X\n",
    "X=PredictorScalerFit.transform(X)\n",
    " \n",
    "# Split the data into training and testing set\n",
    "from sklearn.model_selection import train_test_split\n",
    "X_train, X_test, y_train, y_test = train_test_split(X, y, test_size=0.3, random_state=428)\n",
    " \n",
    "# Sanity check for the sampled data\n",
    "print(X_train.shape)\n",
    "print(y_train.shape)\n",
    "print(X_test.shape)\n",
    "print(y_test.shape)"
   ]
  },
  {
   "cell_type": "markdown",
   "id": "77399fac",
   "metadata": {},
   "source": [
    "**Training ML classification models**"
   ]
  },
  {
   "cell_type": "markdown",
   "id": "e9dcce68",
   "metadata": {},
   "source": [
    "But, this data is high dimensional even after dimension reduction! If you pass this data of 2100 columns to any of these algorithms then, it will take a while before it finishes training and if you are using your humble laptop CPU, it may even hang it!\n",
    "\n",
    "So, while keeping the training speed in mind. I select below algorithms.\n",
    "\n",
    "Naive bayes\n",
    "Logistic Regression\n",
    "Decision Trees"
   ]
  },
  {
   "cell_type": "markdown",
   "id": "55d3428a",
   "metadata": {},
   "source": [
    "**Naive Bayes**"
   ]
  },
  {
   "cell_type": "code",
   "execution_count": 10,
   "id": "836629f4",
   "metadata": {},
   "outputs": [
    {
     "name": "stdout",
     "output_type": "stream",
     "text": [
      "GaussianNB()\n",
      "        PC1       PC2       PC3       PC4       PC5       PC6       PC7  \\\n",
      "0  0.170558  0.305704  0.320970  0.377645  0.300440  0.512070  0.328977   \n",
      "1  0.059201  0.601946  0.716625  0.346003  0.197000  0.510065  0.323403   \n",
      "2  0.169765  0.369158  0.204437  0.341261  0.279360  0.344128  0.309593   \n",
      "3  0.163876  0.341312  0.193034  0.424293  0.302156  0.433852  0.399580   \n",
      "4  0.192141  0.266889  0.231490  0.357927  0.278806  0.429476  0.451059   \n",
      "\n",
      "        PC8       PC9      PC10  ...    PC2093    PC2094    PC2095    PC2096  \\\n",
      "0  0.475587  0.417384  0.370245  ...  0.509103  0.456049  0.443558  0.477573   \n",
      "1  0.371535  0.366961  0.375005  ...  0.558946  0.469076  0.475931  0.465573   \n",
      "2  0.537349  0.394151  0.405068  ...  0.503550  0.513828  0.461349  0.454634   \n",
      "3  0.560354  0.423645  0.362899  ...  0.570620  0.480616  0.477841  0.473685   \n",
      "4  0.565867  0.436759  0.322583  ...  0.529078  0.357434  0.405514  0.464574   \n",
      "\n",
      "     PC2097    PC2098    PC2099    PC2100  Priority  Prediction  \n",
      "0  0.411460  0.370924  0.464712  0.382117        P2          P3  \n",
      "1  0.411140  0.388615  0.463920  0.368590        P1          P1  \n",
      "2  0.416828  0.469170  0.466674  0.373901        P1          P1  \n",
      "3  0.407453  0.390652  0.456390  0.377687        P1          P2  \n",
      "4  0.428483  0.378467  0.551888  0.301040        P1          P2  \n",
      "\n",
      "[5 rows x 2102 columns]\n",
      "              precision    recall  f1-score   support\n",
      "\n",
      "          P1       0.43      0.44      0.44      2006\n",
      "          P2       0.37      0.44      0.40      1653\n",
      "          P3       0.59      0.49      0.53      2280\n",
      "\n",
      "    accuracy                           0.46      5939\n",
      "   macro avg       0.46      0.46      0.46      5939\n",
      "weighted avg       0.47      0.46      0.46      5939\n",
      "\n",
      "[[ 889  711  406]\n",
      " [ 558  726  369]\n",
      " [ 627  542 1111]]\n",
      "Accuracy of the model on Testing Sample Data: 0.46\n"
     ]
    }
   ],
   "source": [
    "# Naive Bays\n",
    "from sklearn.naive_bayes import GaussianNB, MultinomialNB\n",
    " \n",
    "# GaussianNB is preferred in Binomial Classification\n",
    "# MultinomialNB is preferred in multi-class classification\n",
    "clf = GaussianNB()\n",
    "#clf = MultinomialNB()\n",
    " \n",
    "# Printing all the parameters of Naive Bayes\n",
    "print(clf)\n",
    " \n",
    "# Generating the Naive Bayes model\n",
    "NB=clf.fit(X_train,y_train)\n",
    " \n",
    "# Generating predictions on testing data\n",
    "prediction=NB.predict(X_test)\n",
    " \n",
    "# Printing sample values of prediction in Testing data\n",
    "TestingData=pd.DataFrame(data=X_test, columns=Predictors)\n",
    "TestingData[TargetVariable]=y_test\n",
    "TestingData['Prediction']=prediction\n",
    "print(TestingData.head())\n",
    " \n",
    "# Measuring accuracy on Testing Data\n",
    "from sklearn import metrics\n",
    "print(metrics.classification_report(y_test, prediction))\n",
    "print(metrics.confusion_matrix(y_test, prediction))\n",
    " \n",
    "# Printing the Overall Accuracy of the model\n",
    "F1_Score=metrics.f1_score(y_test, prediction, average='weighted')\n",
    "print('Accuracy of the model on Testing Sample Data:', round(F1_Score,2))\n",
    " \n",
    "# Importing cross validation function from sklearn\n",
    "#from sklearn.model_selection import cross_val_score\n",
    " \n",
    "## Running 10-Fold Cross validation on a given algorithm\n",
    "## Passing full data X and y because the K-fold will split the data and automatically choose train/test\n",
    "#Accuracy_Values=cross_val_score(NB, X , y, cv=5, scoring='f1_weighted')\n",
    "#print('\\nAccuracy values for 5-fold Cross Validation:\\n',Accuracy_Values)\n",
    "#print('\\nFinal Average Accuracy of the model:', round(Accuracy_Values.mean(),2))"
   ]
  },
  {
   "cell_type": "markdown",
   "id": "e61dfcd2",
   "metadata": {},
   "source": [
    "**Logistic Regression**"
   ]
  },
  {
   "cell_type": "code",
   "execution_count": 11,
   "id": "6ee74b54",
   "metadata": {},
   "outputs": [
    {
     "name": "stdout",
     "output_type": "stream",
     "text": [
      "        PC1       PC2       PC3       PC4       PC5       PC6       PC7  \\\n",
      "0  0.170558  0.305704  0.320970  0.377645  0.300440  0.512070  0.328977   \n",
      "1  0.059201  0.601946  0.716625  0.346003  0.197000  0.510065  0.323403   \n",
      "2  0.169765  0.369158  0.204437  0.341261  0.279360  0.344128  0.309593   \n",
      "3  0.163876  0.341312  0.193034  0.424293  0.302156  0.433852  0.399580   \n",
      "4  0.192141  0.266889  0.231490  0.357927  0.278806  0.429476  0.451059   \n",
      "\n",
      "        PC8       PC9      PC10  ...    PC2093    PC2094    PC2095    PC2096  \\\n",
      "0  0.475587  0.417384  0.370245  ...  0.509103  0.456049  0.443558  0.477573   \n",
      "1  0.371535  0.366961  0.375005  ...  0.558946  0.469076  0.475931  0.465573   \n",
      "2  0.537349  0.394151  0.405068  ...  0.503550  0.513828  0.461349  0.454634   \n",
      "3  0.560354  0.423645  0.362899  ...  0.570620  0.480616  0.477841  0.473685   \n",
      "4  0.565867  0.436759  0.322583  ...  0.529078  0.357434  0.405514  0.464574   \n",
      "\n",
      "     PC2097    PC2098    PC2099    PC2100  Priority  Prediction  \n",
      "0  0.411460  0.370924  0.464712  0.382117        P2          P2  \n",
      "1  0.411140  0.388615  0.463920  0.368590        P1          P1  \n",
      "2  0.416828  0.469170  0.466674  0.373901        P1          P1  \n",
      "3  0.407453  0.390652  0.456390  0.377687        P1          P1  \n",
      "4  0.428483  0.378467  0.551888  0.301040        P1          P2  \n",
      "\n",
      "[5 rows x 2102 columns]\n",
      "              precision    recall  f1-score   support\n",
      "\n",
      "          P1       0.62      0.63      0.62      2006\n",
      "          P2       0.54      0.52      0.53      1653\n",
      "          P3       0.94      0.96      0.95      2280\n",
      "\n",
      "    accuracy                           0.72      5939\n",
      "   macro avg       0.70      0.70      0.70      5939\n",
      "weighted avg       0.72      0.72      0.72      5939\n",
      "\n",
      "[[1254  720   41]\n",
      " [ 687  861   59]\n",
      " [  65   72 2180]]\n",
      "Accuracy of the model on Testing Sample Data: 0.72\n"
     ]
    }
   ],
   "source": [
    "# Logistic Regression\n",
    "from sklearn.linear_model import LogisticRegression\n",
    "# choose parameter Penalty='l1' or C=1\n",
    "# choose different values for solver 'newton-cg', 'lbfgs', 'liblinear', 'sag', 'saga'\n",
    "clf = LogisticRegression(C=5,penalty='l2', solver='newton-cg')\n",
    " \n",
    "# Printing all the parameters of logistic regression\n",
    "# print(clf)\n",
    " \n",
    "# Creating the model on Training Data\n",
    "LOG=clf.fit(X_train,y_train)\n",
    " \n",
    "# Generating predictions on testing data\n",
    "prediction=LOG.predict(X_test)\n",
    "# Printing sample values of prediction in Testing data\n",
    "TestingData=pd.DataFrame(data=X_test, columns=Predictors)\n",
    "TestingData[TargetVariable]=y_test\n",
    "TestingData['Prediction']=prediction\n",
    "print(TestingData.head())\n",
    " \n",
    " \n",
    "# Measuring accuracy on Testing Data\n",
    "from sklearn import metrics\n",
    "print(metrics.classification_report(y_test, prediction))\n",
    "print(metrics.confusion_matrix(prediction, y_test))\n",
    " \n",
    "# Printing the Overall Accuracy of the model\n",
    "F1_Score=metrics.f1_score(y_test, prediction, average='weighted')\n",
    "print('Accuracy of the model on Testing Sample Data:', round(F1_Score,2))\n",
    " \n",
    "# Importing cross validation function from sklearn\n",
    "#from sklearn.model_selection import cross_val_score\n",
    " \n",
    "# Running 10-Fold Cross validation on a given algorithm\n",
    "# Passing full data X and y because the K-fold will split the data and automatically choose train/test\n",
    "#Accuracy_Values=cross_val_score(LOG, X , y, cv=10, scoring='f1_weighted')\n",
    "#print('\\nAccuracy values for 10-fold Cross Validation:\\n',Accuracy_Values)\n",
    "#print('\\nFinal Average Accuracy of the model:', round(Accuracy_Values.mean(),2))"
   ]
  },
  {
   "cell_type": "markdown",
   "id": "6ef03dca",
   "metadata": {},
   "source": [
    "**Decision Trees**"
   ]
  },
  {
   "cell_type": "code",
   "execution_count": 12,
   "id": "4d6e2327",
   "metadata": {},
   "outputs": [
    {
     "name": "stdout",
     "output_type": "stream",
     "text": [
      "DecisionTreeClassifier(max_depth=5)\n",
      "              precision    recall  f1-score   support\n",
      "\n",
      "          P1       0.55      0.73      0.63      2006\n",
      "          P2       0.49      0.25      0.33      1653\n",
      "          P3       0.84      0.89      0.86      2280\n",
      "\n",
      "    accuracy                           0.66      5939\n",
      "   macro avg       0.63      0.62      0.61      5939\n",
      "weighted avg       0.64      0.66      0.64      5939\n",
      "\n",
      "[[1468  328  210]\n",
      " [1052  417  184]\n",
      " [ 145  111 2024]]\n",
      "Accuracy of the model on Testing Sample Data: 0.64\n"
     ]
    },
    {
     "data": {
      "image/png": "[encoded data removed]",
      "text/plain": [
       "<Figure size 640x480 with 1 Axes>"
      ]
     },
     "metadata": {},
     "output_type": "display_data"
    }
   ],
   "source": [
    "# Decision Trees\n",
    "from sklearn import tree\n",
    "#choose from different tunable hyper parameters\n",
    "clf = tree.DecisionTreeClassifier(max_depth=5,criterion='gini')\n",
    " \n",
    "# Printing all the parameters of Decision Trees\n",
    "print(clf)\n",
    " \n",
    "# Creating the model on Training Data\n",
    "DTree=clf.fit(X_train,y_train)\n",
    "prediction=DTree.predict(X_test)\n",
    " \n",
    "# Measuring accuracy on Testing Data\n",
    "from sklearn import metrics\n",
    "print(metrics.classification_report(y_test, prediction))\n",
    "print(metrics.confusion_matrix(y_test, prediction))\n",
    " \n",
    "# Printing the Overall Accuracy of the model\n",
    "F1_Score=metrics.f1_score(y_test, prediction, average='weighted')\n",
    "print('Accuracy of the model on Testing Sample Data:', round(F1_Score,2))\n",
    " \n",
    "# Plotting the feature importance for Top 10 most important columns\n",
    "%matplotlib inline\n",
    "feature_importances = pd.Series(DTree.feature_importances_, index=Predictors)\n",
    "feature_importances.nlargest(10).plot(kind='barh')\n",
    " \n",
    "# Importing cross validation function from sklearn\n",
    "from sklearn.model_selection import cross_val_score\n",
    " \n",
    "# Running 10-Fold Cross validation on a given algorithm\n",
    "# Passing full data X and y because the K-fold will split the data and automatically choose train/test\n",
    "#Accuracy_Values=cross_val_score(DTree, X , y, cv=10, scoring='f1_weighted')\n",
    "#print('\\nAccuracy values for 10-fold Cross Validation:\\n',Accuracy_Values)\n",
    "#print('\\nFinal Average Accuracy of the model:', round(Accuracy_Values.mean(),2))"
   ]
  },
  {
   "cell_type": "markdown",
   "id": "2722ccef",
   "metadata": {},
   "source": [
    "**Training the best model on Full Data**"
   ]
  },
  {
   "cell_type": "code",
   "execution_count": 13,
   "id": "9fa41d5a",
   "metadata": {},
   "outputs": [],
   "source": [
    "# Generating the Logistic Regression model on full data\n",
    "# This is the best performing model\n",
    "from sklearn.linear_model import LogisticRegression\n",
    "# choose parameter Penalty='l1' or C=1\n",
    "# choose different values for solver 'newton-cg', 'lbfgs', 'liblinear', 'sag', 'saga'\n",
    "clf = LogisticRegression(C=5,penalty='l2', solver='newton-cg')\n",
    "FinalModel=clf.fit(X,y)"
   ]
  },
  {
   "cell_type": "markdown",
   "id": "7cfdce89",
   "metadata": {},
   "source": [
    "**Making predictions for New Cases**"
   ]
  },
  {
   "cell_type": "code",
   "execution_count": 14,
   "id": "47abf989",
   "metadata": {},
   "outputs": [],
   "source": [
    "# Defining a function which converts words into numeric vectors for prediction\n",
    "def FunctionPredictUrgency(inpText):\n",
    "    \n",
    "    # Using the same vectorizer converting the text to numeric vector\n",
    "    X=vectorizer.transform(inpText)\n",
    "    #print(X.toarray())\n",
    " \n",
    "    # calculating the principal components\n",
    "    reduced_X = pca_fit.transform(X.toarray())\n",
    "    \n",
    "    # If standardization/normalization was done on training\n",
    "    # then the above X must also be converted to same platform\n",
    "    # Generating the normalized values of X\n",
    "    X=PredictorScalerFit.transform(reduced_X)\n",
    "    \n",
    "    # Generating the prediction using Naive Bayes model and returning\n",
    "    Prediction=FinalModel.predict(X)\n",
    "    Result=pd.DataFrame(data=inpText, columns=['Text'])\n",
    "    Result['Prediction']=Prediction\n",
    "    return(Result)"
   ]
  },
  {
   "cell_type": "code",
   "execution_count": 15,
   "id": "a628b2cf",
   "metadata": {},
   "outputs": [
    {
     "data": {
      "text/html": [
       "<div>\n",
       "<style scoped>\n",
       "    .dataframe tbody tr th:only-of-type {\n",
       "        vertical-align: middle;\n",
       "    }\n",
       "\n",
       "    .dataframe tbody tr th {\n",
       "        vertical-align: top;\n",
       "    }\n",
       "\n",
       "    .dataframe thead th {\n",
       "        text-align: right;\n",
       "    }\n",
       "</style>\n",
       "<table border=\"1\" class=\"dataframe\">\n",
       "  <thead>\n",
       "    <tr style=\"text-align: right;\">\n",
       "      <th></th>\n",
       "      <th>Text</th>\n",
       "      <th>Prediction</th>\n",
       "    </tr>\n",
       "  </thead>\n",
       "  <tbody>\n",
       "    <tr>\n",
       "      <th>0</th>\n",
       "      <td>system down please restart it</td>\n",
       "      <td>P1</td>\n",
       "    </tr>\n",
       "    <tr>\n",
       "      <th>1</th>\n",
       "      <td>Please help to resolve system issue</td>\n",
       "      <td>P1</td>\n",
       "    </tr>\n",
       "    <tr>\n",
       "      <th>2</th>\n",
       "      <td>Hello how are you?</td>\n",
       "      <td>P3</td>\n",
       "    </tr>\n",
       "  </tbody>\n",
       "</table>\n",
       "</div>"
      ],
      "text/plain": [
       "                                  Text Prediction\n",
       "0        system down please restart it         P1\n",
       "1  Please help to resolve system issue         P1\n",
       "2                   Hello how are you?         P3"
      ]
     },
     "execution_count": 15,
     "metadata": {},
     "output_type": "execute_result"
    }
   ],
   "source": [
    "# Calling the function\n",
    "NewTicket=[\"system down please restart it\", \"Please help to resolve system issue\",\"Hello how are you?\"]\n",
    "PredictionResults=FunctionPredictUrgency(inpText=NewTicket)\n",
    "PredictionResults"
   ]
  },
  {
   "cell_type": "markdown",
   "id": "a1b83ed8",
   "metadata": {},
   "source": [
    "**Saving the output as a file**"
   ]
  },
  {
   "cell_type": "code",
   "execution_count": 16,
   "id": "469712af",
   "metadata": {},
   "outputs": [],
   "source": [
    "# Saving the results as a csv file\n",
    "PredictionResults.to_csv(\"C:/Users/zarri/OneDrive/Documents/My Coding Project/NLP/PredictionResults.csv\",index=False)"
   ]
  },
  {
   "cell_type": "code",
   "execution_count": null,
   "id": "c6fe997f",
   "metadata": {},
   "outputs": [],
   "source": []
  }
 ],
 "metadata": {
  "kernelspec": {
   "display_name": "Python 3 (ipykernel)",
   "language": "python",
   "name": "python3"
  },
  "language_info": {
   "codemirror_mode": {
    "name": "ipython",
    "version": 3
   },
   "file_extension": ".py",
   "mimetype": "text/x-python",
   "name": "python",
   "nbconvert_exporter": "python",
   "pygments_lexer": "ipython3",
   "version": "3.11.5"
  }
 },
 "nbformat": 4,
 "nbformat_minor": 5
}
